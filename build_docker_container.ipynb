{
  "nbformat": 4,
  "nbformat_minor": 0,
  "metadata": {
    "colab": {
      "name": "build_docker_container.ipynb",
      "provenance": [],
      "authorship_tag": "ABX9TyPGv0rA1QKjMfvMkIXtfroV",
      "include_colab_link": true
    },
    "kernelspec": {
      "name": "python3",
      "display_name": "Python 3"
    }
  },
  "cells": [
    {
      "cell_type": "markdown",
      "metadata": {
        "id": "view-in-github",
        "colab_type": "text"
      },
      "source": [
        "<a href=\"https://colab.research.google.com/github/silverstar0727/SageMaker-build-dockercontainer/blob/main/build_docker_container.ipynb\" target=\"_parent\"><img src=\"https://colab.research.google.com/assets/colab-badge.svg\" alt=\"Open In Colab\"/></a>"
      ]
    },
    {
      "cell_type": "code",
      "metadata": {
        "id": "574saaM3PVJI"
      },
      "source": [
        "cd docker_test_test"
      ],
      "execution_count": null,
      "outputs": []
    },
    {
      "cell_type": "code",
      "metadata": {
        "id": "Ay394RGSSImo"
      },
      "source": [
        "!pwd\r\n"
      ],
      "execution_count": null,
      "outputs": []
    },
    {
      "cell_type": "code",
      "metadata": {
        "id": "9-BDeh6DSIkW"
      },
      "source": [
        "from sagemaker.estimator import Estimator\r\n",
        "\r\n",
        "estimator = Estimator(image_uri='tf-custom-container-test',\r\n",
        "                      role='arn:aws:iam::111122223333:role/role-name',\r\n",
        "                      instance_count=1,\r\n",
        "                      instance_type='local')\r\n",
        "\r\n",
        "estimator.fit()\r\n"
      ],
      "execution_count": null,
      "outputs": []
    },
    {
      "cell_type": "code",
      "metadata": {
        "id": "zsLyAlvWSIiZ"
      },
      "source": [
        "%%sh\r\n",
        "\r\n",
        "# Specify an algorithm name\r\n",
        "algorithm_name=tf-custom-container-test\r\n",
        "\r\n",
        "account=$(aws sts get-caller-identity --query Account --output text)\r\n",
        "\r\n",
        "# Get the region defined in the current configuration (default to us-west-2 if none defined)\r\n",
        "region=$(aws configure get region)\r\n",
        "region=${region:-us-west-2}\r\n",
        "\r\n",
        "fullname=\"${account}.dkr.ecr.${region}.amazonaws.com/${algorithm_name}:latest\"\r\n",
        "\r\n",
        "# If the repository doesn't exist in ECR, create it.\r\n",
        "\r\n",
        "aws ecr describe-repositories --repository-names \"${algorithm_name}\" > /dev/null 2>&1\r\n",
        "if [ $? -ne 0 ]\r\n",
        "then\r\n",
        "aws ecr create-repository --repository-name \"${algorithm_name}\" > /dev/null\r\n",
        "fi\r\n",
        "\r\n",
        "# Get the login command from ECR and execute it directly\r\n",
        "\r\n",
        "$(aws ecr get-login --region ${region} --no-include-email)\r\n",
        "\r\n",
        "# Build the docker image locally with the image name and then push it to ECR\r\n",
        "# with the full name.\r\n",
        "\r\n",
        "docker build -t ${algorithm_name} .\r\n",
        "docker tag ${algorithm_name} ${fullname}\r\n",
        "\r\n",
        "docker push ${fullname}\r\n",
        "\r\n"
      ],
      "execution_count": null,
      "outputs": []
    },
    {
      "cell_type": "code",
      "metadata": {
        "id": "JZdMwfBNSIf0"
      },
      "source": [
        "import boto3\r\n",
        "\r\n",
        "account_id = boto3.client('sts').get_caller_identity().get('Account')\r\n",
        "ecr_repository = 'sagemaker-byoc-test'\r\n",
        "tag = ':latest'\r\n",
        "\r\n",
        "region = boto3.session.Session().region_name\r\n",
        "\r\n",
        "uri_suffix = 'amazonaws.com'\r\n",
        "if region in ['cn-north-1', 'cn-northwest-1']:\r\n",
        "    uri_suffix = 'amazonaws.com.cn'\r\n",
        "\r\n",
        "byoc_image_uri = '{}.dkr.ecr.{}.{}/{}'.format(account_id, region, uri_suffix, ecr_repository + tag)\r\n",
        "\r\n",
        "byoc_image_uri\r\n",
        "# This should return something like\r\n",
        "# 111122223333.dkr.ecr.us-east-2.amazonaws.com/sagemaker-byoc-test:latest\r\n"
      ],
      "execution_count": null,
      "outputs": []
    },
    {
      "cell_type": "code",
      "metadata": {
        "id": "GDQiJaIXSMjt"
      },
      "source": [
        "import sagemaker\r\n",
        "from sagemaker import get_execution_role\r\n",
        "from sagemaker.estimator import Estimator\r\n",
        "\r\n",
        "estimator = Estimator(image_uri=byoc_image_uri,\r\n",
        "                      role=get_execution_role(),\r\n",
        "                      base_job_name='tf-custom-container-test-job',\r\n",
        "                      instance_count=1,\r\n",
        "                      instance_type='ml.m5.xlarge')\r\n",
        "\r\n",
        "# start training\r\n",
        "estimator.fit()\r\n",
        "\r\n",
        "# deploy the trained model\r\n",
        "predictor = estimator.deploy(1, instance_type)\r\n"
      ],
      "execution_count": null,
      "outputs": []
    },
    {
      "cell_type": "code",
      "metadata": {
        "id": "QxLXM8dRSMhA"
      },
      "source": [
        ""
      ],
      "execution_count": null,
      "outputs": []
    }
  ]
}